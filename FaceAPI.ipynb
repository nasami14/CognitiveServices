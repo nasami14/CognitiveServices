{
  "cells": [
    {
      "metadata": {
        "trusted": true
      },
      "cell_type": "code",
      "source": "subscription_key = '0d446a6db87a4a95a6c746d1b104601f'",
      "execution_count": 10,
      "outputs": []
    },
    {
      "metadata": {
        "trusted": true
      },
      "cell_type": "code",
      "source": "import urllib.parse, http.client, json\n\nheaders = {\n    'Ocp-Apim-Subscription-Key':subscription_key,\n    'Content-Type':'application/json'\n}\n\nbody = {\n    'url':'https://static.independent.co.uk/s3fs-public/thumbnails/image/2018/04/24/15/angela-merkel.jpg'\n     }\n\nparams = urllib.parse.urlencode({\n    'returnFaceId':True,\n    'returnFaceLandmarks':True,\n    'returnFaceAttributes':'age,gender,makeup,smile,glasses,accessories,emotion'\n})\n\nurl = 'southcentralus.api.cognitive.microsoft.com'\n\nendpoint = '/face/v1.0/detect?%s'\n\ntry:\n    conn = http.client.HTTPSConnection(url)\n    conn.request('POST', endpoint % params, str(body), headers)\n    response = conn.getresponse()\n    jsonData = response.read()\n    data = json.loads(jsonData)\n    detect_face_id = data[0]['faceId']\n    print(detect_face_id)\n    print(json.dumps(data, sort_keys=True, indent=2))\n    conn.close()\nexcept Exception as ex:\n    print(ex)",
      "execution_count": 16,
      "outputs": [
        {
          "output_type": "stream",
          "text": "2056ad2a-ec0e-42ba-8792-e4ab6eaab01c\n[\n  {\n    \"faceAttributes\": {\n      \"accessories\": [],\n      \"age\": 56.0,\n      \"emotion\": {\n        \"anger\": 0.08,\n        \"contempt\": 0.005,\n        \"disgust\": 0.009,\n        \"fear\": 0.017,\n        \"happiness\": 0.001,\n        \"neutral\": 0.824,\n        \"sadness\": 0.039,\n        \"surprise\": 0.025\n      },\n      \"gender\": \"female\",\n      \"glasses\": \"NoGlasses\",\n      \"makeup\": {\n        \"eyeMakeup\": true,\n        \"lipMakeup\": false\n      },\n      \"smile\": 0.001\n    },\n    \"faceId\": \"2056ad2a-ec0e-42ba-8792-e4ab6eaab01c\",\n    \"faceLandmarks\": {\n      \"eyeLeftBottom\": {\n        \"x\": 629.7,\n        \"y\": 623.9\n      },\n      \"eyeLeftInner\": {\n        \"x\": 671.8,\n        \"y\": 617.0\n      },\n      \"eyeLeftOuter\": {\n        \"x\": 591.3,\n        \"y\": 607.1\n      },\n      \"eyeLeftTop\": {\n        \"x\": 632.8,\n        \"y\": 588.8\n      },\n      \"eyeRightBottom\": {\n        \"x\": 893.0,\n        \"y\": 644.9\n      },\n      \"eyeRightInner\": {\n        \"x\": 842.2,\n        \"y\": 623.7\n      },\n      \"eyeRightOuter\": {\n        \"x\": 939.6,\n        \"y\": 627.4\n      },\n      \"eyeRightTop\": {\n        \"x\": 894.1,\n        \"y\": 602.5\n      },\n      \"eyebrowLeftInner\": {\n        \"x\": 689.5,\n        \"y\": 546.8\n      },\n      \"eyebrowLeftOuter\": {\n        \"x\": 549.1,\n        \"y\": 510.8\n      },\n      \"eyebrowRightInner\": {\n        \"x\": 797.5,\n        \"y\": 573.2\n      },\n      \"eyebrowRightOuter\": {\n        \"x\": 997.3,\n        \"y\": 579.3\n      },\n      \"mouthLeft\": {\n        \"x\": 639.0,\n        \"y\": 948.7\n      },\n      \"mouthRight\": {\n        \"x\": 835.9,\n        \"y\": 953.6\n      },\n      \"noseLeftAlarOutTip\": {\n        \"x\": 645.1,\n        \"y\": 796.8\n      },\n      \"noseLeftAlarTop\": {\n        \"x\": 674.8,\n        \"y\": 733.0\n      },\n      \"noseRightAlarOutTip\": {\n        \"x\": 798.6,\n        \"y\": 800.2\n      },\n      \"noseRightAlarTop\": {\n        \"x\": 777.0,\n        \"y\": 741.4\n      },\n      \"noseRootLeft\": {\n        \"x\": 714.5,\n        \"y\": 628.1\n      },\n      \"noseRootRight\": {\n        \"x\": 776.8,\n        \"y\": 630.6\n      },\n      \"noseTip\": {\n        \"x\": 710.1,\n        \"y\": 774.9\n      },\n      \"pupilLeft\": {\n        \"x\": 632.1,\n        \"y\": 604.1\n      },\n      \"pupilRight\": {\n        \"x\": 890.2,\n        \"y\": 617.1\n      },\n      \"underLipBottom\": {\n        \"x\": 709.4,\n        \"y\": 990.1\n      },\n      \"underLipTop\": {\n        \"x\": 711.5,\n        \"y\": 959.2\n      },\n      \"upperLipBottom\": {\n        \"x\": 707.9,\n        \"y\": 948.1\n      },\n      \"upperLipTop\": {\n        \"x\": 707.5,\n        \"y\": 925.6\n      }\n    },\n    \"faceRectangle\": {\n      \"height\": 652,\n      \"left\": 415,\n      \"top\": 447,\n      \"width\": 652\n    }\n  }\n]\n",
          "name": "stdout"
        }
      ]
    },
    {
      "metadata": {
        "trusted": true
      },
      "cell_type": "code",
      "source": "group_id = 'random_people'\n\ngroup_body = {\n    'name':'Random People'\n}\n\ntry:\n    conn = http.client.HTTPSConnection('southcentralus.api.cognitive.microsoft.com')\n    conn.request('PUT', '/face/v1.0/persongroups/%s' % group_id, str(group_body), headers)\n    response = conn.getresponse()\n    data = response.read()\n    print(data)\n    conn.close()\nexcept Exception as ex:\n    print(ex)",
      "execution_count": 15,
      "outputs": [
        {
          "output_type": "stream",
          "text": "b''\n",
          "name": "stdout"
        }
      ]
    },
    {
      "metadata": {
        "trusted": true
      },
      "cell_type": "code",
      "source": "person_body = {\n   'name':'Angelle'\n    \n}\n\nperson_endpoint = '/face/v1.0/persongroups/{0}/persons'.format(group_id)\n\ntry:\n    conn = http.client.HTTPSConnection('southcentralus.api.cognitive.microsoft.com')\n    conn.request('POST', person_endpoint, str(person_body), headers)\n    response = conn.getresponse()\n    jsonData = response.read()\n    data = json.loads(jsonData)\n    print(data)\n    conn.close()\nexcept Exception as ex:\n    print(ex)",
      "execution_count": 39,
      "outputs": [
        {
          "output_type": "stream",
          "text": "{'personId': '4e6803df-4560-4a81-92d3-000d4a874bb0'}\n",
          "name": "stdout"
        }
      ]
    },
    {
      "metadata": {
        "trusted": true
      },
      "cell_type": "code",
      "source": "try:\n    conn = http.client.HTTPSConnection('southcentralus.api.cognitive.microsoft.com')\n    conn.request('GET', person_endpoint, \"\", headers)\n    response = conn.getresponse()\n    jsonData = response.read()\n    person_data = json.loads(jsonData)\n    print(person_data)\n    conn.close()\nexcept Exception as ex:\n    print(ex)",
      "execution_count": 43,
      "outputs": [
        {
          "output_type": "stream",
          "text": "[{'personId': '4e6803df-4560-4a81-92d3-000d4a874bb0', 'persistedFaceIds': [], 'name': 'Angelle', 'userData': None}, {'personId': '72173985-abc8-4d08-b981-0eae18d92517', 'persistedFaceIds': [], 'name': 'Bill', 'userData': None}, {'personId': 'df92e71d-9307-45d8-b154-f1a374a1ac8a', 'persistedFaceIds': [], 'name': 'Elisabeth', 'userData': None}]\n",
          "name": "stdout"
        }
      ]
    },
    {
      "metadata": {
        "trusted": true
      },
      "cell_type": "code",
      "source": "try:\n    conn = http.client.HTTPSConnection('southcentralus.api.cognitive.microsoft.com')\n    conn.request('DELETE', person_endpoint+\"/2d9b3fb8-73de-4cd8-ac7e-f6b23963908b\", \"\", headers)\n    response = conn.getresponse()\n    jsonData = response.read()\n    print(jsonData)\n    conn.close()\nexcept Exception as ex:\n    print(ex)",
      "execution_count": 42,
      "outputs": [
        {
          "output_type": "stream",
          "text": "b''\n",
          "name": "stdout"
        }
      ]
    },
    {
      "metadata": {
        "trusted": true
      },
      "cell_type": "code",
      "source": "import os\n\nperson_group_id = 'random_people'\n\nface_headers = {\n    'Ocp-Apim-Subscription-Key':subscription_key,\n    'Content-Type':'application/octet-stream'\n}\n\nfor person in person_data:\n    face_endpoint = '/face/v1.0/persongroups/{0}/persons/{1}/persistedFaces'.format(person_group_id, person['personId'])\n    for file in os.listdir('People/'+person['name']):\n        with open('People/{0}/{1}'.format(person['name'],file), 'rb') as face_body:\n            conn = http.client.HTTPSConnection('southcentralus.api.cognitive.microsoft.com')\n            conn.request('POST', face_endpoint, face_body, face_headers)\n            response = conn.getresponse()\n            jsonData = response.read()\n            data = json.loads(jsonData)\n            print(data)\n            conn.close()",
      "execution_count": 46,
      "outputs": [
        {
          "output_type": "stream",
          "text": "{'persistedFaceId': 'a120277b-3390-4dc4-9f3e-64f166d22fb2'}\n{'persistedFaceId': 'f60aebec-2fcc-4eac-800d-aae51df685f1'}\n{'persistedFaceId': '59eb48a7-49f5-4dac-80d9-d3945a5616b9'}\n{'persistedFaceId': 'adce3f3a-6d00-48e3-867f-da3675a9b61d'}\n{'persistedFaceId': 'b333afab-1411-4484-aefc-686890c492df'}\n{'persistedFaceId': 'b69acf19-3beb-4636-bc53-66fa6297e12c'}\n{'persistedFaceId': 'ffbaad69-40a9-4471-bbfa-b5d2354747df'}\n{'persistedFaceId': 'b327f121-236c-4677-9ae6-d80784328b9a'}\n{'persistedFaceId': '147665a5-cda3-434b-b072-6fc30d62b545'}\n",
          "name": "stdout"
        }
      ]
    },
    {
      "metadata": {
        "trusted": true
      },
      "cell_type": "code",
      "source": "train_headers = {\n    'Ocp-Apim-Subscription-Key':subscription_key\n}\ntrain_endpoint = '/face/v1.0/persongroups/{0}/train'.format(person_group_id)\n\ntry:\n    conn = http.client.HTTPSConnection('southcentralus.api.cognitive.microsoft.com')\n    conn.request('POST', train_endpoint, '', train_headers)\n    response = conn.getresponse()\n    data = response.read()\n    print(data)\n    conn.close()\nexcept Exception as ex:\n    print(ex)",
      "execution_count": 47,
      "outputs": [
        {
          "output_type": "stream",
          "text": "b''\n",
          "name": "stdout"
        }
      ]
    },
    {
      "metadata": {
        "trusted": true
      },
      "cell_type": "code",
      "source": "identify_endpoint = '/face/v1.0/identify'\n\nidentify_headers = {\n    'Ocp-Apim-Subscription-Key':subscription_key\n}\n\nidentify_body = {\n    'faceIds':[detect_face_id],\n    'personGroupId':person_group_id\n}\n\ntry:\n    conn = http.client.HTTPSConnection('southcentralus.api.cognitive.microsoft.com')\n    conn.request('POST', identify_endpoint, str(identify_body), identify_headers)\n    response = conn.getresponse()\n    jsonData = response.read()\n    data = json.loads(jsonData)\n    print(data)\n    conn.close()\nexcept Exception as ex:\n    print(ex)",
      "execution_count": 53,
      "outputs": [
        {
          "output_type": "stream",
          "text": "[{'faceId': '2056ad2a-ec0e-42ba-8792-e4ab6eaab01c', 'candidates': [{'personId': '4e6803df-4560-4a81-92d3-000d4a874bb0', 'confidence': 0.71093}]}]\n",
          "name": "stdout"
        }
      ]
    },
    {
      "metadata": {
        "trusted": true
      },
      "cell_type": "code",
      "source": "print(person_data)",
      "execution_count": 54,
      "outputs": [
        {
          "output_type": "stream",
          "text": "[{'personId': '4e6803df-4560-4a81-92d3-000d4a874bb0', 'persistedFaceIds': [], 'name': 'Angelle', 'userData': None}, {'personId': '72173985-abc8-4d08-b981-0eae18d92517', 'persistedFaceIds': [], 'name': 'Bill', 'userData': None}, {'personId': 'df92e71d-9307-45d8-b154-f1a374a1ac8a', 'persistedFaceIds': [], 'name': 'Elisabeth', 'userData': None}]\n",
          "name": "stdout"
        }
      ]
    },
    {
      "metadata": {
        "trusted": true
      },
      "cell_type": "code",
      "source": "identified_person = data[0]\nfound = False\nfor candidate in identified_person['candidates']:\n    for person in person_data:\n        if(person['personId'] == candidate['personId']):\n            print('FOUND IT!')\n            print('This is ' + person['name'])\n            found = True\n            \nif(found == False):\n    print('This person could not be identified')",
      "execution_count": 52,
      "outputs": [
        {
          "output_type": "stream",
          "text": "FOUND IT!\nThis is Angelle\n",
          "name": "stdout"
        }
      ]
    },
    {
      "metadata": {
        "trusted": false
      },
      "cell_type": "code",
      "source": "",
      "execution_count": null,
      "outputs": []
    }
  ],
  "metadata": {
    "kernelspec": {
      "name": "python36",
      "display_name": "Python 3.6",
      "language": "python"
    },
    "language_info": {
      "mimetype": "text/x-python",
      "nbconvert_exporter": "python",
      "name": "python",
      "pygments_lexer": "ipython3",
      "version": "3.6.6",
      "file_extension": ".py",
      "codemirror_mode": {
        "version": 3,
        "name": "ipython"
      }
    }
  },
  "nbformat": 4,
  "nbformat_minor": 2
}