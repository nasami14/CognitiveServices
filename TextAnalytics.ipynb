{
  "cells": [
    {
      "metadata": {
        "trusted": true
      },
      "cell_type": "code",
      "source": "textAnalyticsURL = 'southcentralus.api.cognitive.microsoft.com'\ntextAnalyticsKey = '5e1211e3d89444e68c46b219fa6ee25d'",
      "execution_count": 1,
      "outputs": []
    },
    {
      "metadata": {
        "trusted": true
      },
      "cell_type": "code",
      "source": "import urllib.parse, http.client, urllib.request, urllib.error, json\n\nheaders = {\n    'Content-Type' : 'application/json',\n    'Ocp-Apim-Subscription-Key' : textAnalyticsKey,\n    'Accept' : 'application/json'\n}\n\nbody = {\n    'documents' : [\n        {\n            'language' : 'en',\n            'id' : '1',\n            'text' : 'Wow! I am loving this course!'\n        },\n        {\n            'language' : 'en',\n            'id' : '2',\n            'text' : 'This course is not working for me right now.'\n        }\n    ]\n}\n\nparams = urllib.parse.urlencode({})\n\ntry:\n    conn = http.client.HTTPSConnection(textAnalyticsURL)\n    conn.request(\"POST\", \"/text/analytics/v2.0/sentiment?%s\" % params, str(body), headers)\n    response = conn.getresponse()\n    jsonData = response.read().decode(\"UTF-8\")\n    data = json.loads(jsonData)\n    for document in data['documents']:\n        sentiment = \"positive\"\n        if document['score'] <= 0.5:\n            sentiment = \"negative\"\n        print('Document ' + document['id'] + ' has a ' + sentiment + ' sentiment')\n    conn.close()\nexcept Exception as ex:\n    print(ex.strerror)",
      "execution_count": 4,
      "outputs": [
        {
          "output_type": "stream",
          "text": "Document 1 has a positive sentiment\nDocument 2 has a negative sentiment\n",
          "name": "stdout"
        }
      ]
    },
    {
      "metadata": {
        "trusted": true
      },
      "cell_type": "code",
      "source": "try:\n    conn = http.client.HTTPSConnection(textAnalyticsURL)\n    conn.request(\"POST\", \"/text/analytics/v2.0/keyPhrases?%s\" % params, str(body), headers)\n    response = conn.getresponse()\n    jsonData = response.read().decode(\"UTF-8\")\n    data = json.loads(jsonData)\n    for document in data['documents']:\n        print('Document ' + document['id'] + ' has these key phrases:')\n        for phrase in document['keyPhrases']:\n            print(\"    \" + phrase)\n        print('-----------------------------------')\n    conn.close()\nexcept Exception as ex:\n    print(ex.strerror)",
      "execution_count": 3,
      "outputs": [
        {
          "output_type": "stream",
          "text": "Document 1 has these key phrases:\n    Wow\n    course\n-----------------------------------\nDocument 2 has these key phrases:\n    course\n-----------------------------------\n",
          "name": "stdout"
        }
      ]
    },
    {
      "metadata": {
        "trusted": true
      },
      "cell_type": "code",
      "source": "",
      "execution_count": null,
      "outputs": []
    },
    {
      "metadata": {
        "trusted": true
      },
      "cell_type": "code",
      "source": "",
      "execution_count": null,
      "outputs": []
    },
    {
      "metadata": {
        "trusted": true
      },
      "cell_type": "code",
      "source": "",
      "execution_count": null,
      "outputs": []
    },
    {
      "metadata": {
        "trusted": true
      },
      "cell_type": "code",
      "source": "",
      "execution_count": null,
      "outputs": []
    }
  ],
  "metadata": {
    "kernelspec": {
      "name": "python36",
      "display_name": "Python 3.6",
      "language": "python"
    },
    "language_info": {
      "mimetype": "text/x-python",
      "nbconvert_exporter": "python",
      "name": "python",
      "pygments_lexer": "ipython3",
      "version": "3.6.6",
      "file_extension": ".py",
      "codemirror_mode": {
        "version": 3,
        "name": "ipython"
      }
    }
  },
  "nbformat": 4,
  "nbformat_minor": 2
}