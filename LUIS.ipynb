{
  "cells": [
    {
      "metadata": {
        "trusted": true
      },
      "cell_type": "code",
      "source": "endpoint_url = 'https://westus.api.cognitive.microsoft.com/luis/v2.0/apps/a32378a1-bbf8-4ba8-aebd-66438582549b?subscription-key=6d0dd69d1b704d438b06c043558dc05f&spellCheck=true&bing-spell-check-subscription-key={YOUR_BING_KEY_HERE}&verbose=true&timezoneOffset=-360&q='",
      "execution_count": 41,
      "outputs": []
    },
    {
      "metadata": {
        "trusted": true
      },
      "cell_type": "code",
      "source": "import json, requests\nquery = input('Please write the LUIS command: \\n')\nendpoint = endpoint_url + query.replace(\" \", \"+\")\nresponse = requests.get(endpoint)\njsonData = response.content.decode('UTF-8')\ndata = json.loads(jasonData)\nintent = data['topScoringIntent']['intent']\nif(intent == \"OpenShades\"):\n      print(\"Opening shades...\")\nelif(intent == \"closeshades\"):\n      print(\"Closing shades...\")\nelse: \n      print(\"I am sorry, I did not catch that.\")\n",
      "execution_count": 45,
      "outputs": [
        {
          "output_type": "stream",
          "name": "stdout",
          "text": "Please write the LUIS command: \nclose the shades\nOpening shades...\n"
        }
      ]
    },
    {
      "metadata": {
        "trusted": true
      },
      "cell_type": "code",
      "source": "",
      "execution_count": null,
      "outputs": []
    },
    {
      "metadata": {
        "trusted": true
      },
      "cell_type": "code",
      "source": "",
      "execution_count": null,
      "outputs": []
    }
  ],
  "metadata": {
    "kernelspec": {
      "name": "python36",
      "display_name": "Python 3.6",
      "language": "python"
    },
    "language_info": {
      "mimetype": "text/x-python",
      "nbconvert_exporter": "python",
      "name": "python",
      "pygments_lexer": "ipython3",
      "version": "3.6.6",
      "file_extension": ".py",
      "codemirror_mode": {
        "version": 3,
        "name": "ipython"
      }
    }
  },
  "nbformat": 4,
  "nbformat_minor": 2
}