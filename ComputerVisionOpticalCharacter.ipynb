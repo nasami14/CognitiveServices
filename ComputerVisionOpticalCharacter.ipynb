{
  "cells": [
    {
      "metadata": {
        "trusted": true
      },
      "cell_type": "code",
      "source": "subscription_key = 'b1968b1272c84706b04c553588faaf68'",
      "execution_count": 3,
      "outputs": []
    },
    {
      "metadata": {
        "trusted": true
      },
      "cell_type": "code",
      "source": "import urllib.parse, http.client, json\n\nheaders = {\n    'Ocp-Apim-Subscription-Key':subscription_key\n}\n\nbody = {\n    'url':'https://i.ytimg.com/vi/lNdN7J8948Y/maxresdefault.jpg'\n}\n\nparams = urllib.parse.urlencode({\n    'visualFeatures':'faces',\n    'details':'celebrities',\n    'language':'en'\n})\n\ntry:\n    conn = http.client.HTTPSConnection(\"southcentralus.api.cognitive.microsoft.com\")\n    conn.request(\"POST\", \"/vision/v2.0/analyze?%s\" % params, str(body), headers)\n    response = conn.getresponse()\n    jsonData = response.read()\n    data = json.loads(jsonData)\n    print(json.dumps(data, sort_keys=True, indent=2))\n    conn.close()\nexcept Expception as ex:\n    print(ex)",
      "execution_count": 4,
      "outputs": [
        {
          "output_type": "stream",
          "text": "{\n  \"categories\": [\n    {\n      \"name\": \"outdoor_sportsfield\",\n      \"score\": 0.73828125\n    }\n  ],\n  \"faces\": [],\n  \"metadata\": {\n    \"format\": \"Jpeg\",\n    \"height\": 720,\n    \"width\": 1280\n  },\n  \"requestId\": \"2bbec958-d570-4694-a62c-28a6d7c278d5\"\n}\n",
          "name": "stdout"
        }
      ]
    },
    {
      "metadata": {
        "trusted": false
      },
      "cell_type": "code",
      "source": "params_describe = urllib.parse.urlencode({\n    'maxCandidates':'2',\n    'language':'en'\n})\n\ntry:\n    conn = http.client.HTTPSConnection(\"southcentralus.api.cognitive.microsoft.com\")\n    conn.request(\"POST\", \"/vision/v2.0/describe?%s\" % params_describe, str(body), headers)\n    response = conn.getresponse()\n    jsonData = response.read()\n    data = json.loads(jsonData)\n    print(json.dumps(data, sort_keys=True, indent=2))\n    conn.close()\nexcept Exception as ex:\n    print(ex)",
      "execution_count": 16,
      "outputs": [
        {
          "name": "stdout",
          "output_type": "stream",
          "text": "{\n  \"description\": {\n    \"captions\": [\n      {\n        \"confidence\": 0.9624482508715679,\n        \"text\": \"a crowd of people watching a baseball game\"\n      },\n      {\n        \"confidence\": 0.9557926502207649,\n        \"text\": \"a large crowd of people watching a baseball game\"\n      }\n    ],\n    \"tags\": [\n      \"grass\",\n      \"sport\",\n      \"baseball\",\n      \"game\",\n      \"outdoor\",\n      \"person\",\n      \"player\",\n      \"large\",\n      \"ball\",\n      \"field\",\n      \"front\",\n      \"standing\",\n      \"crowd\",\n      \"throwing\",\n      \"man\",\n      \"pitcher\",\n      \"watching\",\n      \"people\",\n      \"sitting\",\n      \"group\",\n      \"talking\",\n      \"ready\",\n      \"many\",\n      \"batter\",\n      \"playing\",\n      \"pitch\",\n      \"crowded\",\n      \"plate\"\n    ]\n  },\n  \"metadata\": {\n    \"format\": \"Jpeg\",\n    \"height\": 720,\n    \"width\": 1280\n  },\n  \"requestId\": \"d04657a8-b68d-4315-ba21-39fa04fce0a7\"\n}\n"
        }
      ]
    },
    {
      "metadata": {
        "trusted": true
      },
      "cell_type": "code",
      "source": "ocr_url = \"https://s3-us-west-2.amazonaws.com/tabs.web.media/b/r/brry/brry-square-orig.jpg\"\nocr_params = urllib.parse.urlencode({\n    'language':'en',\n    'detectOrientation':False\n})\n\nbody = {\n    'url':ocr_url\n}\n\ntry:\n    conn = http.client.HTTPSConnection(\"southcentralus.api.cognitive.microsoft.com\")\n    conn.request('POST', '/vision/v2.0/ocr?%s' % ocr_params, str(body), headers)\n    response = conn.getresponse()\n    jsonData = response.read()\n    data = json.loads(jsonData)\n    print(json.dumps(data, sort_keys=True, indent=2))\n    conn.close()\nexcept Exception as ex:\n    print(ex)",
      "execution_count": 6,
      "outputs": [
        {
          "output_type": "stream",
          "text": "{\n  \"language\": \"en\",\n  \"orientation\": \"NotDetected\",\n  \"regions\": [\n    {\n      \"boundingBox\": \"378,680,784,826\",\n      \"lines\": [\n        {\n          \"boundingBox\": \"504,680,544,232\",\n          \"words\": [\n            {\n              \"boundingBox\": \"504,680,544,232\",\n              \"text\": \"HABIT\"\n            }\n          ]\n        },\n        {\n          \"boundingBox\": \"534,1002,528,46\",\n          \"words\": [\n            {\n              \"boundingBox\": \"534,1002,35,38\",\n              \"text\": \"s\"\n            },\n            {\n              \"boundingBox\": \"580,1002,131,38\",\n              \"text\": \"-rop\"\n            },\n            {\n              \"boundingBox\": \"744,1002,318,46\",\n              \"text\": \"WISHING,\"\n            }\n          ]\n        },\n        {\n          \"boundingBox\": \"552,1078,492,46\",\n          \"words\": [\n            {\n              \"boundingBox\": \"552,1078,214,38\",\n              \"text\": \"START\"\n            },\n            {\n              \"boundingBox\": \"805,1078,239,46\",\n              \"text\": \"DOING,\"\n            }\n          ]\n        },\n        {\n          \"boundingBox\": \"400,1148,664,41\",\n          \"words\": [\n            {\n              \"boundingBox\": \"400,1148,82,41\",\n              \"text\": \"and\"\n            },\n            {\n              \"boundingBox\": \"500,1151,171,36\",\n              \"text\": \"TAKE\"\n            },\n            {\n              \"boundingBox\": \"713,1151,351,36\",\n              \"text\": \"COMMAND\"\n            }\n          ]\n        },\n        {\n          \"boundingBox\": \"556,1230,487,38\",\n          \"words\": [\n            {\n              \"boundingBox\": \"556,1230,86,38\",\n              \"text\": \"OF\"\n            },\n            {\n              \"boundingBox\": \"675,1230,186,38\",\n              \"text\": \"YOUR\"\n            },\n            {\n              \"boundingBox\": \"900,1230,143,37\",\n              \"text\": \"LIFE\"\n            }\n          ]\n        },\n        {\n          \"boundingBox\": \"378,1376,784,82\",\n          \"words\": [\n            {\n              \"boundingBox\": \"378,1377,468,80\",\n              \"text\": \"BERNARD\"\n            },\n            {\n              \"boundingBox\": \"905,1376,257,82\",\n              \"text\": \"ROTH\"\n            }\n          ]\n        },\n        {\n          \"boundingBox\": \"643,1481,252,25\",\n          \"words\": [\n            {\n              \"boundingBox\": \"643,1481,59,25\",\n              \"text\": \"READ\"\n            },\n            {\n              \"boundingBox\": \"714,1481,29,25\",\n              \"text\": \"BY\"\n            },\n            {\n              \"boundingBox\": \"753,1481,58,25\",\n              \"text\": \"SEAN\"\n            },\n            {\n              \"boundingBox\": \"823,1481,72,25\",\n              \"text\": \"PRATT\"\n            }\n          ]\n        }\n      ]\n    }\n  ],\n  \"textAngle\": 0.0\n}\n",
          "name": "stdout"
        }
      ]
    },
    {
      "metadata": {
        "trusted": false
      },
      "cell_type": "code",
      "source": "",
      "execution_count": null,
      "outputs": []
    }
  ],
  "metadata": {
    "kernelspec": {
      "name": "python36",
      "display_name": "Python 3.6",
      "language": "python"
    },
    "language_info": {
      "mimetype": "text/x-python",
      "nbconvert_exporter": "python",
      "name": "python",
      "pygments_lexer": "ipython3",
      "version": "3.6.6",
      "file_extension": ".py",
      "codemirror_mode": {
        "version": 3,
        "name": "ipython"
      }
    }
  },
  "nbformat": 4,
  "nbformat_minor": 2
}