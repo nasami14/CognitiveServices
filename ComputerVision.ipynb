{
  "cells": [
    {
      "metadata": {
        "trusted": true
      },
      "cell_type": "code",
      "source": "subscription_key = 'b1968b1272c84706b04c553588faaf68'",
      "execution_count": 4,
      "outputs": []
    },
    {
      "metadata": {
        "trusted": true
      },
      "cell_type": "code",
      "source": "import urllib.parse, http.client, json\n\nheaders = {\n    'Ocp-Apim-Subscription-Key':subscription_key\n}\n\nbody = {\n    'url':'https://i.ytimg.com/vi/lNdN7J8948Y/maxresdefault.jpg'\n}\n\nparams = urllib.parse.urlencode({\n    'visualFeatures':'faces',\n    'details':'celebrities',\n    'language':'en'\n})\n\ntry:\n    conn = http.client.HTTPSConnection(\"southcentralus.api.cognitive.microsoft.com\")\n    conn.request(\"POST\", \"/vision/v2.0/analyze?%s\" % params, str(body), headers)\n    response = conn.getresponse()\n    jsonData = response.read()\n    data = json.loads(jsonData)\n    print(json.dumps(data, sort_keys=True, indent=2))\n    conn.close()\nexcept Expception as ex:\n    print(ex)",
      "execution_count": 5,
      "outputs": [
        {
          "output_type": "stream",
          "text": "{\n  \"categories\": [\n    {\n      \"name\": \"outdoor_sportsfield\",\n      \"score\": 0.73828125\n    }\n  ],\n  \"faces\": [],\n  \"metadata\": {\n    \"format\": \"Jpeg\",\n    \"height\": 720,\n    \"width\": 1280\n  },\n  \"requestId\": \"44481116-a83b-4405-a850-a3181c0c1cea\"\n}\n",
          "name": "stdout"
        }
      ]
    },
    {
      "metadata": {
        "trusted": true
      },
      "cell_type": "code",
      "source": "params_describe = urllib.parse.urlencode({\n    'maxCandidates':'2',\n    'language':'en'\n})\n\ntry:\n    conn = http.client.HTTPSConnection(\"southcentralus.api.cognitive.microsoft.com\")\n    conn.request(\"POST\", \"/vision/v2.0/describe?%s\" % params_describe, str(body), headers)\n    response = conn.getresponse()\n    jsonData = response.read()\n    data = json.loads(jsonData)\n    print(json.dumps(data, sort_keys=True, indent=2))\n    conn.close()\nexcept Expception as ex:\n    print(ex)",
      "execution_count": 6,
      "outputs": [
        {
          "output_type": "stream",
          "text": "{\n  \"description\": {\n    \"captions\": [\n      {\n        \"confidence\": 0.9624482857929324,\n        \"text\": \"a crowd of people watching a baseball game\"\n      },\n      {\n        \"confidence\": 0.9557926781251608,\n        \"text\": \"a large crowd of people watching a baseball game\"\n      }\n    ],\n    \"tags\": [\n      \"grass\",\n      \"sport\",\n      \"baseball\",\n      \"game\",\n      \"outdoor\",\n      \"person\",\n      \"player\",\n      \"large\",\n      \"ball\",\n      \"field\",\n      \"front\",\n      \"standing\",\n      \"crowd\",\n      \"throwing\",\n      \"man\",\n      \"pitcher\",\n      \"watching\",\n      \"people\",\n      \"sitting\",\n      \"group\",\n      \"talking\",\n      \"ready\",\n      \"many\",\n      \"batter\",\n      \"playing\",\n      \"pitch\",\n      \"crowded\",\n      \"plate\"\n    ]\n  },\n  \"metadata\": {\n    \"format\": \"Jpeg\",\n    \"height\": 720,\n    \"width\": 1280\n  },\n  \"requestId\": \"ec874d61-8d99-4c15-926a-c017615031e2\"\n}\n",
          "name": "stdout"
        }
      ]
    },
    {
      "metadata": {
        "trusted": false
      },
      "cell_type": "code",
      "source": "",
      "execution_count": null,
      "outputs": []
    }
  ],
  "metadata": {
    "kernelspec": {
      "name": "python36",
      "display_name": "Python 3.6",
      "language": "python"
    },
    "language_info": {
      "mimetype": "text/x-python",
      "nbconvert_exporter": "python",
      "name": "python",
      "pygments_lexer": "ipython3",
      "version": "3.6.6",
      "file_extension": ".py",
      "codemirror_mode": {
        "version": 3,
        "name": "ipython"
      }
    }
  },
  "nbformat": 4,
  "nbformat_minor": 2
}